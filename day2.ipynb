{
 "cells": [
  {
   "cell_type": "markdown",
   "id": "c6826034",
   "metadata": {},
   "source": [
    "### Day 2 - Basic Probability\n",
    "\n",
    "________________________________________________\n",
    "\n",
    "  <br/>\n",
    "\n",
    "- [Background](#Background)\n",
    "- [Task 1](#Task)\n",
    "- [Task 2](#task2)\n",
    "- [Task 3](#task3)\n",
    "\n",
    "  <br/>\n",
    "Fundamental rules of probability:\n",
    "1. Any probability, $ P(A) $, is a number between 0 and 1 (i.e., $ 0 \\leq P(A) \\leq 1 $).\n",
    "2. The probability of the sample space, $ P(S) $ , is 1 (i.e., $ P(S) = 1 $).\n",
    "3. Probability that event A will not occur $ P(A^C) = 1 - P(A) $\n",
    "4. If  events, $ A $ and $ B $, are disjoint, then the probability of either event is the sum of the probabilities of the 2 events (i.e., $ P(A or B) = P(A) + P(B) $)\n",
    "4. If  events, $ A $ and $ B $, are independent, then the probability of both events is the product of the probabilities for each event  (i.e., $ P(A and B) = P(A) * P(B) $).\n",
    "\n",
    "[Full tutorial link on HackerRank](https://www.hackerrank.com/challenges/s10-mcq-1/tutorial)\n"
   ]
  },
  {
   "cell_type": "markdown",
   "id": "09a95fb7",
   "metadata": {},
   "source": [
    "#### Task\n",
    "In a single toss of 2 fair (evenly-weighted) six-sided dice, find the probability that their sum will be at most 9.\n",
    "\n",
    "##### Solution\n",
    "There are 36 possible outcomes (combinations), of which 6 are more than 9 - (4,6),(5,5),(5,6),(6,4),(6,5),(6,6). Hence 30 out of 36 outcomes fulfil the requirement. This gives us possibility 30/36=5/6 "
   ]
  },
  {
   "cell_type": "markdown",
   "id": "4ea6e981",
   "metadata": {},
   "source": [
    "#### Task<a name=\"task2\" />\n",
    "In a single toss of 2 fair (evenly-weighted) six-sided dice, find the probability that the values rolled by each die will be different and the two dice have a sum of 6.\n",
    "\n",
    "#####  Solution\n",
    "\n",
    "There are 36 possible outcomes (combinations), of which (1,5),(2,4),(3,3),(4,2),(5,1) 5 give sum of 6 and just 4 of them have different values rolled by each dice. This gives us possibility 4/36 =  1/9"
   ]
  },
  {
   "cell_type": "markdown",
   "id": "3ed2fdf1",
   "metadata": {},
   "source": [
    "#### Task<a name=\"task3\" />\n",
    "\n",
    "There are 3 urns labeled X,Y , and Z.\n",
    "\n",
    "- Urn X contains 4 red balls and 3 black balls.\n",
    "- Urn Y contains 5 red balls and 4 black balls.\n",
    "- Urn Z contains 4 red balls and 4 black balls.\n",
    "\n",
    "One ball is drawn from each of the  urns. What is the probability that, of the 3 balls drawn,  2 are red and 1 is black?\n",
    "\n",
    "#####  Solution\n",
    "There are three possible ways to draw 2 red balls and 1 black ball:\n",
    "- Red balls from urns X and Y, and black from Z (RRB)\n",
    "- Red balls from urns X and Z, and black from Y (RBR)\n",
    "- Red balls from urns Y and Z, and black from X (BRR)\n",
    "\n",
    "<br/>\n",
    "Event RRB has probability 4/7 * 5/9 * 4/8 = 10/63\n",
    "\n",
    "Event RBR has probability 4/7 * 4/9 * 4/8 = 8/63\n",
    "\n",
    "Event BRR has probability 3/7 * 5/9 * 4/8 = 15/126\n",
    "<br/>\n",
    "\n",
    "Probability that any of these events will occur is 10/63 + 8/63 + 15/126 = 51/126 = 17/42\n",
    "\n"
   ]
  },
  {
   "cell_type": "code",
   "execution_count": null,
   "id": "5ae46eaa",
   "metadata": {},
   "outputs": [],
   "source": []
  }
 ],
 "metadata": {
  "kernelspec": {
   "display_name": "Python 3 (ipykernel)",
   "language": "python",
   "name": "python3"
  },
  "language_info": {
   "codemirror_mode": {
    "name": "ipython",
    "version": 3
   },
   "file_extension": ".py",
   "mimetype": "text/x-python",
   "name": "python",
   "nbconvert_exporter": "python",
   "pygments_lexer": "ipython3",
   "version": "3.10.0"
  }
 },
 "nbformat": 4,
 "nbformat_minor": 5
}
