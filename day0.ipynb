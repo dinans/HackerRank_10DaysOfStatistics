{
 "cells": [
  {
   "cell_type": "markdown",
   "id": "faa43bd2",
   "metadata": {},
   "source": [
    "### Day 0 - Mean, Median, and Mode\n",
    "\n",
    "________________________________________________\n",
    "\n",
    "  <br/>\n",
    "\n",
    "- [Task 1](#Task)\n",
    "- [Task 2](#task2)\n"
   ]
  },
  {
   "cell_type": "markdown",
   "id": "8024e780",
   "metadata": {},
   "source": [
    "#### Task\n",
    "Given an array, X , of N integers, calculate and print the respective mean, median, and mode on separate lines. If your array contains more than one modal value, choose the numerically smallest one.\n",
    "\n",
    "#####  Input Format\n",
    "\n",
    "The first line contains an integer, N, the number of elements in the array.\n",
    "The second line contains N space-separated integers that describe the array's elements."
   ]
  },
  {
   "cell_type": "code",
   "execution_count": 1,
   "id": "0787c627",
   "metadata": {},
   "outputs": [
    {
     "name": "stdout",
     "output_type": "stream",
     "text": [
      "10\n",
      "64630 11735 14216 99233 14470 4978 73429 38120 51135 67060\n",
      "43900.6\n",
      "44627.5\n",
      "4978\n"
     ]
    }
   ],
   "source": [
    "from collections import Counter\n",
    "\n",
    "n=int(input())\n",
    "nums=list(map(int,input().split()))\n",
    "print(f\"{sum(nums)/len(nums):0.1f}\")\n",
    "nums=sorted(nums)\n",
    "if n%2==1:\n",
    "\n",
    "    print(f\"{nums[n//2+1]:0.1f}\")\n",
    "else:\n",
    "    print(f\"{(nums[n//2-1]+nums[n//2])/2:0.1f}\")\n",
    "c = Counter(nums).most_common()\n",
    "print(c[0][0])\n"
   ]
  },
  {
   "cell_type": "markdown",
   "id": "918ccb3f",
   "metadata": {},
   "source": [
    "#### Task<a name=\"task2\" />\n",
    "\n",
    "Given an array, X , of N integers and an array, W , representing the respective weights of X's elements, calculate and print the weighted mean of X's elements. Your answer should be rounded to a scale of 1 decimal place \n",
    "\n",
    "##### Input Format\n",
    "\n",
    "The first line contains an integer, N, the number of elements in arrays X and W.\n",
    "The second line contains N space-separated integers that descdribe the elements of array X.\n",
    "The third line contains N space-separated integers that descdribe the elements of array W."
   ]
  },
  {
   "cell_type": "code",
   "execution_count": 2,
   "id": "2a8b3180",
   "metadata": {},
   "outputs": [
    {
     "name": "stdout",
     "output_type": "stream",
     "text": [
      "5\n",
      "10 40 30 50 20\n",
      "1 2 3 4 5\n",
      "32.0\n"
     ]
    }
   ],
   "source": [
    "def weightedMean(X, W):\n",
    "    s=sum([x*w for x,w in zip(X,W)])/sum(W) \n",
    "    print(f\"{s:0.1f}\")\n",
    "\n",
    "n = int(input().strip())\n",
    "vals = list(map(int, input().rstrip().split()))\n",
    "weights = list(map(int, input().rstrip().split()))\n",
    "weightedMean(vals, weights)\n"
   ]
  },
  {
   "cell_type": "code",
   "execution_count": null,
   "id": "c0281a39",
   "metadata": {},
   "outputs": [],
   "source": []
  }
 ],
 "metadata": {
  "kernelspec": {
   "display_name": "Python 3 (ipykernel)",
   "language": "python",
   "name": "python3"
  },
  "language_info": {
   "codemirror_mode": {
    "name": "ipython",
    "version": 3
   },
   "file_extension": ".py",
   "mimetype": "text/x-python",
   "name": "python",
   "nbconvert_exporter": "python",
   "pygments_lexer": "ipython3",
   "version": "3.10.0"
  }
 },
 "nbformat": 4,
 "nbformat_minor": 5
}
