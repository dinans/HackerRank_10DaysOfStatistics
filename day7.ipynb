{
 "cells": [
  {
   "cell_type": "markdown",
   "id": "c9c59720",
   "metadata": {},
   "source": [
    "### Day 7 - Pearson Correlation Coefficient. Spearsman Correlation Coefficient\n",
    "________________________________________________\n",
    "\n",
    "  <br/>\n",
    "\n",
    "- [Background](#Background)\n",
    "- [Task 1](#Task)\n",
    "- [Task 2](#task2)\n",
    "\n",
    "  <br/>\n",
    "\n",
    "#### Background \n",
    "__Covariance__ is a measure of how two random variables change together, or the strength of their correlation.\n",
    "\n",
    "Consider two random variables, $ X $ and $ Y $, each with $ n $ values (i.e.,$ x_1, x_2, ..., x_n $  and $ y_1, y_2, ..., y_n $). The covariance of $ X $ and $ Y $ can be found using following formula:\n",
    "$$\n",
    "cov(X,Y) = \\frac{1}{n} {\\sum_{i=1}^n {(x_i-\\bar{x})⋅(y_i-\\bar{y})}}\n",
    "$$,\n",
    "where $ \\bar{x} $ is the mean of $ X $ and $ \\bar{y} $ is the mean of $ Y $.\n",
    "\n",
    "The Pearson correlation coefficient, $ \\rho_{X,Y}$ , is given by:\n",
    "\n",
    "$$\n",
    "\\rho_{X,Y} = \\frac{cov(X,Y)}{\\sigma_X\\sigma_Y}  = \\frac{{\\sum_{i=1}^n {(x_i-\\bar{x})⋅(y_i-\\bar{y})}}}{n\\sigma_X\\sigma_Y}\n",
    "$$,\n",
    "where  $ \\sigma_X $ is the standard deviation of $ X $ and $ \\sigma_Y $ is the standard deviation of $ Y $.\n",
    "\n",
    "[Full tutorial link on HackerRank](https://www.hackerrank.com/challenges/s10-pearson-correlation-coefficient/tutorial)\n",
    "\n",
    "\n",
    "If $ Rank_X $ and $ Rank_Y $ denote the respective ranks of each data point, then the Spearman's rank correlation coefficient, $ r_S $ , is the Pearson correlation coefficient of  $ Rank_X $ and $ Rank_Y $.\n",
    "\n",
    "If $ X $ and $ Y $ don't contain duplicates:\n",
    "\n",
    "$$\n",
    "r_S = 1 - \\frac{6⋅{\\sum_{i=1}^n {d_i^2}}}{n(n^2-1)}\n",
    "$$,\n",
    "where $ d_i $  is the difference between the respective values of $ Rank_X $ and $ Rank_Y $.\n",
    "\n",
    "[Full tutorial link on HackerRank](https://www.hackerrank.com/challenges/s10-spearman-rank-correlation-coefficient/tutorial)\n"
   ]
  },
  {
   "cell_type": "markdown",
   "id": "a26954bb",
   "metadata": {},
   "source": [
    "#### Task\n",
    "\n",
    "Given two __n__-element data sets, __X__ and __Y__, calculate the value of the Pearson correlation coefficient.\n",
    "\n",
    "\n",
    "##### Input Format\n",
    "\n",
    "The first line contains an integer, __n__ , denoting the size of data sets __X__ and __Y__.\n",
    "The second line contains __n__ space-separated real numbers (scaled to at most one decimal place), defining data set __X__.\n",
    "The third line contains __n__ space-separated real numbers (scaled to at most one decimal place), defining data set __Y__.\n",
    "\n",
    "###### Constraints\n",
    "- 10 <= n <= 100\n",
    "- 1 <= X<sub>i</sub> <= 500\n",
    "- 1 <= Y<sub>i</sub> <= 500\n",
    "- Data set X contains unique values.\n",
    "- Data set Y contains unique values.\n",
    "\n",
    "##### Output Format\n",
    "\n",
    "Print the value of the Pearson correlation coefficient, rounded to a scale of 3 decimal places.\n",
    "\n"
   ]
  },
  {
   "cell_type": "code",
   "execution_count": 1,
   "id": "0c54fd6a",
   "metadata": {},
   "outputs": [
    {
     "name": "stdout",
     "output_type": "stream",
     "text": [
      "10\n",
      "10 9.8 8 7.8 7.7 7 6 5 4 2\n",
      "200 44 32 24 22 17 15 12 8 4\n",
      "0.612\n"
     ]
    }
   ],
   "source": [
    "# Solution without using numpy\n",
    "import math\n",
    "\n",
    "n = int(input())\n",
    "X = list(map(float,input().split()))\n",
    "Y = list(map(float,input().split()))\n",
    "\n",
    "X_mean = sum(X)/len(X)\n",
    "Y_mean = sum(Y)/len(Y)\n",
    "\n",
    "X_std = math.sqrt(sum([(x-X_mean)**2 for x in X])/len(X))\n",
    "Y_std = math.sqrt(sum([(y-Y_mean)**2 for y in Y])/len(Y))\n",
    "\n",
    "pear_c = sum([(x-X_mean)*(y-Y_mean) for x,y in zip(X,Y)]) / (n * X_std * Y_std)\n",
    "\n",
    "print(f\"{pear_c:0.3f}\")\n",
    "\n"
   ]
  },
  {
   "cell_type": "code",
   "execution_count": 2,
   "id": "dbac14a7",
   "metadata": {},
   "outputs": [
    {
     "name": "stdout",
     "output_type": "stream",
     "text": [
      "10\n",
      "10 9.8 8 7.8 7.7 7 6 5 4 2\n",
      "200 44 32 24 22 17 15 12 8 4\n",
      "0.612\n"
     ]
    }
   ],
   "source": [
    "# Solution with numpy\n",
    "import numpy as np\n",
    "\n",
    "n = int(input())\n",
    "X = list(map(float,input().split()))\n",
    "Y = list(map(float,input().split()))\n",
    "\n",
    "print(f\"{np.corrcoef(X, Y)[0][1]:0.3f}\") "
   ]
  },
  {
   "cell_type": "markdown",
   "id": "fdae15c6",
   "metadata": {},
   "source": [
    "#### Task<a name=\"task2\" />\n",
    "\n",
    "Given two __n__-element data sets, __X__ and __Y__, calculate the value of the Spearman's rank correlation coefficient.\n",
    "\n",
    "##### Input Format\n",
    "\n",
    "The first line contains an integer, __n__ , denoting the size of data sets __X__ and __Y__.\n",
    "The second line contains __n__ space-separated real numbers (scaled to at most one decimal place), defining data set __X__.\n",
    "The third line contains __n__ space-separated real numbers (scaled to at most one decimal place), defining data set __Y__.\n",
    "\n",
    "###### Constraints\n",
    "- 10 <= n <= 100\n",
    "- 1 <= X<sub>i</sub> <= 500\n",
    "- 1 <= Y<sub>i</sub> <= 500\n",
    "- Data set X contains unique values.\n",
    "- Data set Y contains unique values.\n",
    "\n",
    "##### Output Format\n",
    "\n",
    "Print the value of the Spearman's rank correlation coefficient, rounded to a scale of 3 decimal places.\n",
    "\n"
   ]
  },
  {
   "cell_type": "code",
   "execution_count": 5,
   "id": "24261072",
   "metadata": {},
   "outputs": [
    {
     "name": "stdout",
     "output_type": "stream",
     "text": [
      "10\n",
      "10 9.8 8 7.8 7.7 1.7 6 5 1.4 2\n",
      "200 44 32 24 22 17 15 12 8 4\n",
      "0.903\n"
     ]
    }
   ],
   "source": [
    "# Solution without using numpy or scipy\n",
    "import math\n",
    "\n",
    "n = int(input())\n",
    "X = list(map(float,input().split()))\n",
    "Y = list(map(float,input().split()))\n",
    "\n",
    "rank_X = [sorted(X).index(x)+1 for x in X ]\n",
    "rank_Y = [sorted(Y).index(y)+1 for y in Y ]\n",
    "\n",
    "spearmans_c = 1 - ((6 * sum([(rx-ry)**2 for rx,ry in zip(rank_X, rank_Y)])) / (n * (n**2 - 1)))\n",
    "\n",
    "print(f\"{spearmans_c:0.3f}\")\n"
   ]
  },
  {
   "cell_type": "code",
   "execution_count": 6,
   "id": "45f3967d",
   "metadata": {},
   "outputs": [
    {
     "name": "stdout",
     "output_type": "stream",
     "text": [
      "10\n",
      "10 9.8 8 7.8 7.7 1.7 6 5 1.4 2\n",
      "200 44 32 24 22 17 15 12 8 4\n",
      "0.903\n"
     ]
    }
   ],
   "source": [
    "# solution with scipy\n",
    "import scipy.stats\n",
    "\n",
    "n = int(input())\n",
    "X = list(map(float,input().split()))\n",
    "Y = list(map(float,input().split()))\n",
    "\n",
    "print(f\"{scipy.stats.spearmanr(X,Y).correlation:0.3f}\")\n"
   ]
  },
  {
   "cell_type": "code",
   "execution_count": null,
   "id": "c8a37e70",
   "metadata": {},
   "outputs": [],
   "source": []
  }
 ],
 "metadata": {
  "kernelspec": {
   "display_name": "Python 3 (ipykernel)",
   "language": "python",
   "name": "python3"
  },
  "language_info": {
   "codemirror_mode": {
    "name": "ipython",
    "version": 3
   },
   "file_extension": ".py",
   "mimetype": "text/x-python",
   "name": "python",
   "nbconvert_exporter": "python",
   "pygments_lexer": "ipython3",
   "version": "3.10.0"
  }
 },
 "nbformat": 4,
 "nbformat_minor": 5
}
