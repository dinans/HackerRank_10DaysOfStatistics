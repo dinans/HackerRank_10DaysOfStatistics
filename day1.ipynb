{
 "cells": [
  {
   "cell_type": "markdown",
   "id": "b52e4efb",
   "metadata": {},
   "source": [
    "### Day 1 - Quartiles\n",
    "\n",
    "________________________________________________\n",
    "\n",
    "  <br/>\n",
    "\n",
    "- [Task 1](#Task)\n",
    "- [Task 2](#task2)\n",
    "- [Task 3](#task3)\n"
   ]
  },
  {
   "cell_type": "markdown",
   "id": "8027b807",
   "metadata": {},
   "source": [
    "#### Task \n",
    "\n",
    "Given an array, arr , of n integers, calculate the respective first quartile ($ Q_1 $), second quartile ($ Q_2 $), and third quartile ($ Q_3 $). It is guaranteed that $ Q_1, Q_2 $ and $ Q_3 $ are integers.\n",
    "\n",
    "##### Input Format\n",
    "The first line contains an integer, n, the number of elements in arr.\n",
    "The second line contains n space-separated integers, each an arr[i].\n"
   ]
  },
  {
   "cell_type": "code",
   "execution_count": 2,
   "id": "f9230bdc",
   "metadata": {},
   "outputs": [
    {
     "name": "stdout",
     "output_type": "stream",
     "text": [
      "9\n",
      "3 7 8 5 12 14 21 13 18\n",
      "[3, 5, 7, 8, 12, 13, 14, 18, 21]\n",
      "6\n",
      "12\n",
      "16\n"
     ]
    }
   ],
   "source": [
    "def get_median(arr):\n",
    "    n=len(arr)\n",
    "    if n%2==0:\n",
    "        return (arr[n//2]+arr[n//2-1])/2\n",
    "    else:\n",
    "        return arr[n//2]\n",
    "        \n",
    "def quartiles(arr):\n",
    "    n=len(arr)\n",
    "    arr=sorted(arr)\n",
    "    print(arr)\n",
    "    Q2=int(get_median(arr))\n",
    "    Q1=int(get_median(arr[:n//2]))\n",
    "    if n%2==0:\n",
    "        Q3=int(get_median(arr[n//2:]))\n",
    "    else:\n",
    "        Q3=int(get_median(arr[n//2+1:]))\n",
    "    return [Q1, Q2, Q3]\n",
    "\n",
    "n = int(input().strip())\n",
    "\n",
    "data = list(map(int, input().rstrip().split()))\n",
    "\n",
    "res = quartiles(data)\n",
    "\n",
    "print('\\n'.join(map(str, res)))\n"
   ]
  },
  {
   "cell_type": "markdown",
   "id": "62e35a94",
   "metadata": {},
   "source": [
    "#### Task<a name=\"task2\" />\n",
    "The interquartile range of an array is the difference between its first ($ Q_1 $) and third ($ Q_3 $) quartiles.\n",
    "\n",
    "Given an array, values , of n integers and an array, freqs, representing the respective frequencies of values's elements, construct a data set, S , where each values[i] occurs at frequency freq[i]. Then calculate and print S's interquartile range, rounded to a scale of 1  decimal place.\n",
    "\n",
    "##### Input Format\n",
    "\n",
    "The first line contains an integer, n, the number of elements in arrays values and freqs.\n",
    "The second line contains n space-separated integers describing the elements of array values.\n",
    "The third line contains n space-separated integers describing the elements of array freqs.\n",
    "\n",
    "##### Output Format\n",
    "\n",
    "Print the interquartile range for the expanded data set on a new line. Round the answer to a scale of 1 decimal place"
   ]
  },
  {
   "cell_type": "code",
   "execution_count": 4,
   "id": "7f6dfe9c",
   "metadata": {},
   "outputs": [
    {
     "name": "stdout",
     "output_type": "stream",
     "text": [
      "6\n",
      "6 12 8 10 20 16\n",
      "5 4 3 2 1 5\n"
     ]
    },
    {
     "data": {
      "text/plain": [
       "9.0"
      ]
     },
     "execution_count": 4,
     "metadata": {},
     "output_type": "execute_result"
    }
   ],
   "source": [
    "import functools\n",
    "def get_median(arr):\n",
    "    n=len(arr)\n",
    "    if n%2==0:\n",
    "        return (arr[n//2]+arr[n//2-1])/2\n",
    "    else:\n",
    "        return arr[n//2]\n",
    "\n",
    "def interQuartile(values, freqs):\n",
    "    arr=functools.reduce(lambda x,y: x+y,[[v]*f for v,f in zip(values,freqs)])\n",
    "    arr=sorted(arr)\n",
    "    n=len(arr)\n",
    "    Q1=get_median(arr[:n//2])\n",
    "    if n%2==0:\n",
    "        Q3=get_median(arr[n//2:])\n",
    "    else:\n",
    "        Q3=get_median(arr[n//2+1:])\n",
    "    return round(Q3-Q1,1)\n",
    "    \n",
    "n = int(input().strip())\n",
    "val = list(map(int, input().rstrip().split()))\n",
    "freq = list(map(int, input().rstrip().split()))\n",
    "interQuartile(val, freq)"
   ]
  },
  {
   "cell_type": "markdown",
   "id": "962d573b",
   "metadata": {},
   "source": [
    "#### Task<a name=\"task3\" />\n",
    "Given an array, arr, of n integers, calculate and print the standard deviation. Your answer should be in decimal form, rounded to a scale of 1 decimal place \n",
    "\n",
    "##### Input Format\n",
    "\n",
    "The first line contains an integer, n, denoting the size of arr.\n",
    "The second line contains n space-separated integers that describe arr."
   ]
  },
  {
   "cell_type": "code",
   "execution_count": 5,
   "id": "23629537",
   "metadata": {},
   "outputs": [
    {
     "name": "stdout",
     "output_type": "stream",
     "text": [
      "5\n",
      "10 40 30 50 20\n",
      "14.1\n"
     ]
    }
   ],
   "source": [
    "import math\n",
    "def stdDev(arr):\n",
    "    print(f\"{math.sqrt(sum([(x-sum(arr)/len(arr))**2 for x in arr])/len(arr)):0.1f}\")\n",
    "\n",
    "n = int(input().strip())\n",
    "vals = list(map(int, input().rstrip().split()))\n",
    "stdDev(vals)"
   ]
  },
  {
   "cell_type": "code",
   "execution_count": null,
   "id": "5727cbe9",
   "metadata": {},
   "outputs": [],
   "source": []
  }
 ],
 "metadata": {
  "kernelspec": {
   "display_name": "Python 3 (ipykernel)",
   "language": "python",
   "name": "python3"
  },
  "language_info": {
   "codemirror_mode": {
    "name": "ipython",
    "version": 3
   },
   "file_extension": ".py",
   "mimetype": "text/x-python",
   "name": "python",
   "nbconvert_exporter": "python",
   "pygments_lexer": "ipython3",
   "version": "3.10.0"
  }
 },
 "nbformat": 4,
 "nbformat_minor": 5
}
