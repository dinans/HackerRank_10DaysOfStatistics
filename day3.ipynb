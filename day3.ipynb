{
 "cells": [
  {
   "cell_type": "markdown",
   "id": "0a416bc2",
   "metadata": {},
   "source": [
    "### Day 3 - Conditional Probability\n",
    "\n",
    "________________________________________________\n",
    "\n",
    "  <br/>\n",
    "\n",
    "- [Background](#Background)\n",
    "- [Task 1](#Task)\n",
    "- [Task 2](#task2)\n",
    "- [Task 3](#task3)\n",
    "\n",
    "  <br/>\n",
    "  \n",
    "This is defined as the probability of an event occurring, assuming that one or more other events have already occurred. Two events, $ A $ and $ B $ are considered to be independent if event $ A $ has no effect on the probability of event $ B $ (i.e. $ P(B|A) = P(B) $). If events $ A $ and $ B $ are not independent, then we must consider the probability that both events occur. This can be referred to as the intersection of events $ A $ and $ B $, defined as $ P(A\\cap B) = P(B|A)⋅P(A) $. We can then use this definition to find the conditional probability by dividing the probability of the intersection of the two events ($ A \\cap B $) by the probability of the event that is assumed to have already occurred (event $ A $):\n",
    "\n",
    "$$\n",
    "P(B|A) = \\frac{P(A \\cap B)}{P(A)}\n",
    "$$\n",
    "\n",
    "__Bayes' Theorem__\n",
    "\n",
    "Let $ A $ and $ B $ be two events such that $ P(A|B) $ denotes the probability of the occurrence of $ A $ given that $ B $ has occurred and $ P(B|A) $ denotes the probability of the occurrence of $ B $ given that $ A $  has occurred, then:\n",
    "\n",
    "$$\n",
    "P(A|B) = \\frac{P(B|A)⋅P(A)}{P(B)} = \\frac{P(B|A)⋅P(A)}{P(B|A)⋅P(A) + P(B|A^C)⋅P(A^C)}\n",
    "$$\n",
    "\n",
    "\n",
    "[Full tutorial link on HackerRank](https://www.hackerrank.com/challenges/s10-mcq-4/tutorial)\n",
    "\n",
    "An ordered arrangement of $ r $ objects from a set, $ A $ , of $ n $ objects (where $ 0 < r \\leq n $) is called an r-element permutation of A.\n",
    "$$\n",
    "_nP_r=\\frac{n!}{(n-r)!}\n",
    "$$\n",
    "\n",
    "An unordered arrangement of $ r $ objects from a set, $ A $, of $ n $ objects (where $ r \\leq n $) is called an r-element combination of A.\n",
    "$$\n",
    "_nC_r=\\frac{_nP_r}{r!}=\\frac{n!}{r!⋅(n-r)!}\n",
    "$$\n",
    "\n",
    "[Full tutorial link on HackerRank](https://www.hackerrank.com/challenges/s10-mcq-5/tutorial)\n"
   ]
  },
  {
   "cell_type": "markdown",
   "id": "4a68bcaf",
   "metadata": {},
   "source": [
    "#### Task\n",
    "\n",
    "Suppose a family has  children, one of which is a boy. What is the probability that both children are boys?\n",
    "\n",
    "##### Solution\n",
    "\n",
    "There are four possible options with equal probability (BB, BG, GB, GG). Given that one child is a boy, option GG is excluded, which leaves 3 possible outcomes, of which only one matches the question. This gives a probability of 1/3. However, it exists different view on a problem: given that family already has one child, there are two possible outcomes for the second child (B or G), which gives a probability of 1∕2. This question is known as [boy or girl paradox](https://en.wikipedia.org/wiki/Boy_or_Girl_paradox)\n"
   ]
  },
  {
   "cell_type": "markdown",
   "id": "184ad721",
   "metadata": {},
   "source": [
    "#### Task<a name=\"task2\" />\n",
    "\n",
    "You draw 2 cards from a standard 52-card deck without replacing them. What is the probability that both cards are of the same suit?\n",
    "\n",
    "##### Solution\n",
    "In a standard deck there are 13 cards of the each suit. After one card has been drawn there is 51 card left of which there are 12 cards left of the desired suit. This gives a probability of 12/51"
   ]
  },
  {
   "cell_type": "markdown",
   "id": "c6df7022",
   "metadata": {},
   "source": [
    "#### Task<a name=\"task3\" />\n",
    "A bag contains 3 red marbles and 4 blue marbles. Then, 2 marbles are drawn from the bag, at random, without replacement. If the first marble drawn is red, what is the probability that the second marble is blue?\n",
    "\n",
    "##### Solution\n",
    "After first marble is drawn, there are 6 marbles left, of which 4 are blue. This gives a probability of 4/6=2/3"
   ]
  },
  {
   "cell_type": "code",
   "execution_count": null,
   "id": "2b505a55",
   "metadata": {},
   "outputs": [],
   "source": []
  }
 ],
 "metadata": {
  "kernelspec": {
   "display_name": "Python 3 (ipykernel)",
   "language": "python",
   "name": "python3"
  },
  "language_info": {
   "codemirror_mode": {
    "name": "ipython",
    "version": 3
   },
   "file_extension": ".py",
   "mimetype": "text/x-python",
   "name": "python",
   "nbconvert_exporter": "python",
   "pygments_lexer": "ipython3",
   "version": "3.10.0"
  }
 },
 "nbformat": 4,
 "nbformat_minor": 5
}
