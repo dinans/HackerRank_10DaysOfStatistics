{
 "cells": [
  {
   "cell_type": "markdown",
   "id": "3d69146e",
   "metadata": {},
   "source": [
    "### Day 8 - Least Square Regression Line\n",
    "________________________________________________\n",
    "\n",
    "  <br/>\n",
    "\n",
    "- [Background](#Background)\n",
    "- [Task 1](#Task)\n",
    "- [Task 2](#task2)\n",
    "\n",
    "  <br/>\n",
    "\n",
    "#### Background \n",
    "\n",
    "If our data shows a linear relationship between $ X $ and $ Y $, then the straight line which best describes the relationship is the regression line. The regression line is given by $ Y = a + bx $.\n",
    "\n",
    "The values of $ a $ and $ b $ can be calculated using following formulas:\n",
    "\n",
    "$$\n",
    "\\begin{eqnarray}\n",
    "b & = \\rho ⋅ \\frac{\\sigma_Y}{\\sigma_X} \\\\\n",
    "a & = \\bar{y} - b\\bar{x}\n",
    "\\end{eqnarray}\n",
    "$$,\n",
    "where:\n",
    "- $ \\rho $ is Pearson correlation coefficient\n",
    "- $ \\sigma_X $ is standard deviation of $ X $\n",
    "- $ \\sigma_Y $ is standard deviation of $ Y $\n",
    "- $ \\bar{x} $ is mean of $ X $\n",
    "- $ \\bar{y} $ is mean of $ Y $\n",
    "\n",
    "[Full tutorial link on HackerRank](https://www.hackerrank.com/challenges/s10-least-square-regression-line/tutorial)\n"
   ]
  },
  {
   "cell_type": "markdown",
   "id": "5fa9e96d",
   "metadata": {},
   "source": [
    "#### Task\n",
    "\n",
    "A group of five students enrolls in Statistics immediately after taking a Math aptitude test. Each student's Math aptitude test score, __x__, and Statistics course grade, __y__ , can be expressed as the following list of __(x,y)__ points:\n",
    "    (95, 85)\n",
    "    (85, 95)\n",
    "    (80, 70)\n",
    "    (70, 65)\n",
    "    (60, 70)\n",
    "    \n",
    "If a student scored an __80__ on the Math aptitude test, what grade would we expect them to achieve in Statistics? Determine the equation of the best-fit line using the least squares method, then compute and print the value of __y__ when __x = 80__.\n",
    "\n",
    "##### Input Format\n",
    "\n",
    "There are five lines of input; each line contains two space-separated integers describing a student's respective  __x__ and __y__ grades:\n",
    "\n",
    "    95 85\n",
    "    85 95\n",
    "    80 70\n",
    "    70 65\n",
    "    60 70\n",
    "\n",
    "If you do not wish to read this information from stdin, you can hard-code it into your program.\n",
    "\n",
    "##### Output Format\n",
    "\n",
    "Print a single line denoting the answer, rounded to a scale of __3__ decimal places\n",
    "\n"
   ]
  },
  {
   "cell_type": "code",
   "execution_count": 1,
   "id": "3a231eb8",
   "metadata": {},
   "outputs": [
    {
     "name": "stdout",
     "output_type": "stream",
     "text": [
      "78.288\n"
     ]
    }
   ],
   "source": [
    "#solution using sklearn\n",
    "\n",
    "from sklearn import linear_model\n",
    "import numpy as np\n",
    "\n",
    "grades=[]\n",
    "#for _ in range(5):\n",
    "#    grades.append(list(map(int,input().split())))\n",
    "grades=[[95, 85],[85, 95],[80, 70],[70, 65],[60, 70]]\n",
    "X, Y = zip(*grades)\n",
    "lm = linear_model.LinearRegression()\n",
    "lm.fit(np.asarray(X).reshape(-1, 1), Y)\n",
    "a = lm.intercept_\n",
    "b = lm.coef_[0]\n",
    "res = a + b*80\n",
    "\n",
    "print(f\"{res:0.3f}\")"
   ]
  },
  {
   "cell_type": "code",
   "execution_count": 2,
   "id": "3cd74f58",
   "metadata": {},
   "outputs": [
    {
     "name": "stdout",
     "output_type": "stream",
     "text": [
      "78.288\n"
     ]
    }
   ],
   "source": [
    "# Solution without sklearn\n",
    "import math\n",
    "grades=[]\n",
    "#for _ in range(5):\n",
    "#    grades.append(list(map(int,input().split())))\n",
    "grades=[[95, 85],[85, 95],[80, 70],[70, 65],[60, 70]]\n",
    "X, Y = zip(*grades)\n",
    "\n",
    "X_mean = sum(X)/len(X)\n",
    "Y_mean = sum(Y)/len(Y)\n",
    "\n",
    "X_std = math.sqrt(sum([(x-X_mean)**2 for x in X])/len(X))\n",
    "Y_std = math.sqrt(sum([(y-Y_mean)**2 for y in Y])/len(Y))\n",
    "\n",
    "pear_c = sum([(x-X_mean)*(y-Y_mean) for x,y in zip(X,Y)]) / (len(X) * X_std * Y_std)\n",
    "\n",
    "b = pear_c * (Y_std/X_std)\n",
    "a = Y_mean - b * X_mean \n",
    "res = a + b*80\n",
    "\n",
    "print(f\"{res:0.3f}\")"
   ]
  },
  {
   "cell_type": "markdown",
   "id": "e208f482",
   "metadata": {},
   "source": [
    "#### Task<a name=\"task2\" />\n",
    "The regression line of $ Y $  on $ X $  is $ 3x + 4y + 8 = 0 $, and the regression line of $ Y $ on $ X $ is $ 4x + 3y + 7 = 0 $. What is the value of the Pearson correlation coefficient?"
   ]
  },
  {
   "cell_type": "markdown",
   "id": "d413db00",
   "metadata": {},
   "source": [
    "##### Solution\n",
    "Find $b_1$ and $b_2$ from the equations:\n",
    "$$\n",
    "\\begin{eqnarray}\n",
    "4y = & -8 -3x \\\\\n",
    "y = & -2 - \\frac{3}{4}x \\\\\n",
    "b_1 = & -\\frac{3}{4} \\\\\n",
    "4x = & -7 -3y \\\\\n",
    "x = & -\\frac{7}{4} - \\frac{3}{4}y \\\\\n",
    "b_2 = & -\\frac{3}{4} \\\\\n",
    "\\end{eqnarray}\n",
    "$$\n",
    "\n",
    "$b_1$ and $b_2$ can be expressed using Pearson coefficient, so\n",
    "\n",
    "$$\n",
    "\\begin{eqnarray}\n",
    "b_1 = & \\rho ⋅ \\frac{\\sigma_X}{\\sigma_Y} \\\\\n",
    "b_2 = & \\rho ⋅ \\frac{\\sigma_Y}{\\sigma_X} \\\\\n",
    "\\rho = & b_1 ⋅ \\frac{\\sigma_X}{\\sigma_Y} \\\\\n",
    "\\rho = & b_2 ⋅ \\frac{\\sigma_Y}{\\sigma_X} \\\\\n",
    "\\end{eqnarray}\n",
    "$$\n",
    "\n",
    "Multiplying both equations gives:\n",
    "\n",
    "$$\n",
    "\\begin{eqnarray}\n",
    "\\rho^2 = & b_1 ⋅ b_2 \\\\\n",
    "\\rho^2 = & \\frac{9}{16}\\\\\n",
    "\\rho = & \\sqrt{\\frac{9}{16}}\n",
    "\\end{eqnarray}\n",
    "$$\n",
    "\n",
    "Given that b_1 and b_2 are negative, x and y are negatively correlated, so Pearson correlation coefficient would also be negative\n",
    "\n",
    "##### Answer\n",
    "$ \\rho = -\\frac{3}{4} $"
   ]
  },
  {
   "cell_type": "code",
   "execution_count": null,
   "id": "103a37dc",
   "metadata": {},
   "outputs": [],
   "source": []
  }
 ],
 "metadata": {
  "kernelspec": {
   "display_name": "Python 3 (ipykernel)",
   "language": "python",
   "name": "python3"
  },
  "language_info": {
   "codemirror_mode": {
    "name": "ipython",
    "version": 3
   },
   "file_extension": ".py",
   "mimetype": "text/x-python",
   "name": "python",
   "nbconvert_exporter": "python",
   "pygments_lexer": "ipython3",
   "version": "3.10.0"
  }
 },
 "nbformat": 4,
 "nbformat_minor": 5
}
