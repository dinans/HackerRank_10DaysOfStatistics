{
 "cells": [
  {
   "cell_type": "markdown",
   "id": "24a5e99e",
   "metadata": {},
   "source": [
    "### Day 6 - Central Limit Theorem\n",
    "________________________________________________\n",
    "\n",
    "  <br/>\n",
    "\n",
    "- [Background](#Background)\n",
    "- [Task 1](#Task)\n",
    "- [Task 2](#task2)\n",
    "- [Task 3](#task3)\n",
    "\n",
    "  <br/>\n",
    "  \n",
    "#### Background \n",
    "The central limit theorem (CLT) states that, for a large enough sample $ n $, the distribution of the sample mean will approach normal distribution. This holds for a sample of independent random variables from any distribution with a finite standard deviation.\n",
    "\n",
    "\n",
    "Let $ {x_1, x_2, ..., x_n} $ be a random data set of size $ n $, that is, a sequence of independent and identically distributed random variables drawn from distributions of expected values given by $ \\mu $ and finite variances given by $ \\sigma^2 $. The sample average is:\n",
    "\n",
    "$$\n",
    "S_n = \\frac{\\sum_{i=1}^n {x_i}}{N}\n",
    "$$\n",
    "\n",
    "For large $ n $, the distribution of sample sums $ S_n $ is close to normal distribution $ N(\\mu´,\\sigma´) $  where:\n",
    "\n",
    "$$\n",
    "\\begin{eqnarray}\n",
    "\\mu & = n \\times \\mu \\\\\n",
    "\\sigma´ & = \\sqrt{n} \\times \\sigma\n",
    "\\end{eqnarray}\n",
    "$$\n",
    "\n",
    "[Full tutorial link on HackerRank](https://www.hackerrank.com/challenges/s10-the-central-limit-theorem-1/tutorial)\n"
   ]
  },
  {
   "cell_type": "markdown",
   "id": "149731d1",
   "metadata": {},
   "source": [
    "#### Task\n",
    "\n",
    "A large elevator can transport a maximum of __9800__ pounds. Suppose a load of cargo containing __49__ boxes must be transported via the elevator. The box weight of this type of cargo follows a distribution with a mean of __205__ pounds and a standard deviation of __15__ pounds. Based on this information, what is the probability that all __49__ boxes can be safely loaded into the freight elevator and transported?\n",
    "\n",
    "##### Input Format\n",
    "\n",
    "There are 4 lines of input (shown below):\n",
    "\n",
    "    9800\n",
    "    49\n",
    "    205\n",
    "    15\n",
    "\n",
    "The first line contains the maximum weight the elevator can transport. The second line contains the number of boxes in the cargo. The third line contains the mean weight of a cargo box, and the fourth line contains its standard deviation.\n",
    "\n",
    "##### Output Format\n",
    "\n",
    "Print the probability that the elevator can successfully transport all 49 boxes, rounded to a scale of 4 decimal places."
   ]
  },
  {
   "cell_type": "code",
   "execution_count": 1,
   "id": "ddf9bfed",
   "metadata": {},
   "outputs": [
    {
     "name": "stdout",
     "output_type": "stream",
     "text": [
      "9800\n",
      "49\n",
      "205\n",
      "15\n",
      "0.0098\n"
     ]
    }
   ],
   "source": [
    "import math\n",
    "\n",
    "x=int(input())\n",
    "n=int(input())\n",
    "mean=int(input())\n",
    "std=int(input())\n",
    "\n",
    "# x=9800\n",
    "# n=49\n",
    "# mean=205\n",
    "# std=15\n",
    "\n",
    "# According to the central limit theorem, for a large enough sample n,\n",
    "# the distribution of the sample mean will approach normal distribution N(_mu,_sigma), where\n",
    "# _mu = n * mu\n",
    "# _sigma = n**0.5 * sigma\n",
    "\n",
    "mean1=n*mean\n",
    "std1=(n**0.5) * std\n",
    "\n",
    "def normal_distr(x,mu,sigma):\n",
    "    z=(x-mu)/(sigma*2**0.5)\n",
    "    return (1+math.erf(z))/2\n",
    "\n",
    "print(f\"{normal_distr(x,mean1,std1):0.4f}\")"
   ]
  },
  {
   "cell_type": "markdown",
   "id": "5d891ce9",
   "metadata": {},
   "source": [
    "#### Task<a name=\"task2\" />\n",
    "\n",
    "The number of tickets purchased by each student for the University X vs. University Y football game follows a distribution that has a mean of __&mu; = 2.4__ and a standard deviation of __&sigma; = 2.0__ .\n",
    "\n",
    "A few hours before the game starts, __100__ eager students line up to purchase last-minute tickets. If there are only __250__ tickets left, what is the probability that all __100__ students will be able to purchase tickets?\n",
    "\n",
    "\n",
    "###### Input Format\n",
    "\n",
    "There are 4 lines of input (shown below):\n",
    "\n",
    "    250\n",
    "    100\n",
    "    2.4\n",
    "    2.0\n",
    "\n",
    "The first line contains the number of last-minute tickets available at the box office. The second line contains the number of students waiting to buy tickets. The third line contains the mean number of purchased tickets, and the fourth line contains the standard deviation.\n",
    "\n",
    "###### Output Format\n",
    "\n",
    "Print the probability that __100__ students can successfully purchase the remaining __250__ tickets, rounded to a scale of __4__ decimal places."
   ]
  },
  {
   "cell_type": "code",
   "execution_count": 2,
   "id": "066cf7ae",
   "metadata": {},
   "outputs": [
    {
     "name": "stdout",
     "output_type": "stream",
     "text": [
      "250\n",
      "100\n",
      "2.4\n",
      "2.0\n",
      "0.6915\n"
     ]
    }
   ],
   "source": [
    "import math\n",
    "\n",
    "x=int(input())\n",
    "n=int(input())\n",
    "mean=float(input())\n",
    "std=float(input())\n",
    "\n",
    "#x=250\n",
    "#n=100\n",
    "#mean=2.4\n",
    "#std=2.0\n",
    "\n",
    "mean1=n*mean\n",
    "std1=(n**0.5) * std\n",
    "\n",
    "def normal_distr(x,mu,sigma):\n",
    "    z=(x-mu)/(sigma*2**0.5)\n",
    "    return (1+math.erf(z))/2\n",
    "\n",
    "print(f\"{normal_distr(x,mean1,std1):0.4f}\")"
   ]
  },
  {
   "cell_type": "markdown",
   "id": "597f8cf5",
   "metadata": {},
   "source": [
    "#### Task<a name=\"task3\" />\n",
    "\n",
    "You have a sample of __100__ values from a population with mean __&mu; = 500__ and with standard deviation __&sigma; = 80__. Compute the interval that covers the middle __95%__ of the distribution of the sample mean; in other words, compute __A__ and __B__ such that __P(A < x < B) = 95%__. Use the value of __z = 1.96__. Note that  is the [z-score](https://en.wikipedia.org/wiki/Standard_score).\n",
    "\n",
    "##### Input Format\n",
    "\n",
    "There are five lines of input (shown below):\n",
    "\n",
    "    100\n",
    "    500\n",
    "    80\n",
    "    .95\n",
    "    1.96\n",
    "\n",
    "The first line contains the sample size. The second and third lines contain the respective mean (__&mu;__) and standard deviation (__&sigma;__). The fourth line contains the distribution percentage we want to cover (as a decimal), and the fifth line contains the value of __z__.\n",
    "\n",
    "If you do not wish to read this information from stdin, you can hard-code it into your program.\n",
    "\n",
    "##### Output Format\n",
    "\n",
    "Print the following two lines of output, rounded to a scale of __2__ decimal places:\n",
    "\n",
    "- On the first line, print the value of __A__.\n",
    "- On the second line, print the value of __B__."
   ]
  },
  {
   "cell_type": "code",
   "execution_count": 3,
   "id": "ff9173d4",
   "metadata": {},
   "outputs": [
    {
     "name": "stdout",
     "output_type": "stream",
     "text": [
      "100\n",
      "500\n",
      "80\n",
      "0.95\n",
      "1.96\n",
      "484.32\n",
      "515.68\n"
     ]
    }
   ],
   "source": [
    "import math\n",
    "n=int(input())\n",
    "mean=int(input())\n",
    "std=int(input())\n",
    "distr=float(input())\n",
    "z=float(input())\n",
    "\n",
    "#n = 100\n",
    "#mean = 500\n",
    "#std = 80\n",
    "#distr = 0.95\n",
    "#z = 1.96\n",
    "\n",
    "# we are given std of population, not sample, so we will need to find std of sample\n",
    "std1 = std/n**0.5\n",
    "\n",
    "A=mean-z*std1\n",
    "B=mean+z*std1\n",
    "\n",
    "print(f\"{A:0.2f}\")\n",
    "print(f\"{B:0.2f}\")\n"
   ]
  },
  {
   "cell_type": "code",
   "execution_count": null,
   "id": "9fe75725",
   "metadata": {},
   "outputs": [],
   "source": []
  }
 ],
 "metadata": {
  "kernelspec": {
   "display_name": "Python 3 (ipykernel)",
   "language": "python",
   "name": "python3"
  },
  "language_info": {
   "codemirror_mode": {
    "name": "ipython",
    "version": 3
   },
   "file_extension": ".py",
   "mimetype": "text/x-python",
   "name": "python",
   "nbconvert_exporter": "python",
   "pygments_lexer": "ipython3",
   "version": "3.10.0"
  }
 },
 "nbformat": 4,
 "nbformat_minor": 5
}
