{
 "cells": [
  {
   "cell_type": "markdown",
   "id": "62cd4b94",
   "metadata": {},
   "source": [
    "### Day 4 - Binomial distribution. Geometric distribution\n",
    "________________________________________________\n",
    "\n",
    "  <br/>\n",
    "\n",
    "- [Background](#Background)\n",
    "- [Task 1](#Task)\n",
    "- [Task 2](#task2)\n",
    "- [Task 3](#task3)\n",
    "- [Task 4](#task4)\n",
    "\n",
    "  <br/>\n",
    "\n",
    "#### Background \n",
    "\n",
    "A binomial experiment (or Bernoulli trial) is a statistical experiment that has the following properties:\n",
    "\n",
    "\n",
    "- The experiment consists of $ n $ repeated trials.\n",
    "- The trials are independent.\n",
    "- The outcome of each trial is either success ($ s $) or failure ($ f $).\n",
    "\n",
    "We define a binomial process to be a binomial experiment meeting the following conditions:\n",
    "\n",
    "- The number of successes is $ x $ .\n",
    "- The total number of trials is $ n $.\n",
    "- The probability of success of $ 1 $ trial is $ p $.\n",
    "- The probability of failure of $ 1 $ trial is $ q $, where $ q = 1 - p $.\n",
    "- $ b(x,n,p)$ is the binomial probability, meaning the probability of having exactly $ x $ successes out of $ n $ trials.\n",
    "\n",
    "The binomial random variable is the number of successes, , out of  trials.\n",
    "\n",
    "\n",
    "The binomial distribution is the probability distribution for the binomial random variable, given by the following probability mass function:\n",
    "\n",
    "$$\n",
    "b(x,n,p) = {n\\choose x} ⋅p^x⋅q^{n-x}\n",
    "$$\n",
    "\n",
    "Recall that $ {n\\choose x} = \\frac{n!}{x!(n-x)!} $\n",
    "\n",
    "__Cumulative Probability__\n",
    "\n",
    "We consider the distribution function for some real-valued random variable, $ X $ , to be $ F_X(x) = P(X\\leq x) $. Because this is a non-decreasing function that accumulates all the probabilities for the values of $ X $ up to (and including) $ x $ , we call it the cumulative distribution function (CDF) of $ X $. As the CDF expresses a cumulative range of values, we can use the following formula to find the cumulative probabilities for all $ x \\in [a,b] $:\n",
    "\n",
    "$$\n",
    "P(a < X \\leq b) = F_X(b) - F_X(a)\n",
    "$$\n",
    "\n",
    "[Full tutorial link on HackerRank](https://www.hackerrank.com/challenges/s10-binomial-distribution-1/tutorial)\n",
    "\n",
    "A negative binomial experiment is a statistical experiment that has the following properties:\n",
    "\n",
    "- The experiment consists of $ n $ repeated trials.\n",
    "- The trials are independent.\n",
    "- The outcome of each trial is either success ($ s $) or failure ($ f $).\n",
    "- $ P(s) $ is the same for every trial.\n",
    "- The experiment continues until $ x $ successes are observed.\n",
    "\n",
    "The geometric distribution is a special case of the negative binomial distribution, where the number of successes is $ 1 $. We express this with the following formula:\n",
    "\n",
    "$$\n",
    "g(n,p) = q^{(n-1)}⋅p\n",
    "$$\n",
    "\n",
    "[Full tutorial link on HackerRank](https://www.hackerrank.com/challenges/s10-geometric-distribution-1/tutorial)\n"
   ]
  },
  {
   "cell_type": "markdown",
   "id": "9679bc4b",
   "metadata": {},
   "source": [
    "#### Task\n",
    "The ratio of boys to girls for babies born in Russia is $ 1.09:1 $. If there is $ 1 $ child born per birth, what proportion of Russian families with exactly $ 6 $ children will have at least $ 3 $ boys?\n",
    "\n",
    "Write a program to compute the answer using the above parameters (input them). Then print your result, rounded to a scale of 3 decimal places.\n",
    "\n",
    "##### Input format\n",
    "The ratio of boys to girls for babies in one line\n",
    "\n",
    "##### Output format\n",
    "Proportion of Russian families with exactly 6 children that have at least 3 boys rounded to a scale of 3 decimal places"
   ]
  },
  {
   "cell_type": "code",
   "execution_count": 1,
   "id": "e5183d17",
   "metadata": {},
   "outputs": [
    {
     "name": "stdout",
     "output_type": "stream",
     "text": [
      "1.09 1\n",
      "0.696\n"
     ]
    }
   ],
   "source": [
    "import math\n",
    "import operator as op\n",
    "from functools import reduce\n",
    "\n",
    "rb, rg = map(float,input().split())\n",
    "p = rb/(rg+rb)\n",
    "q = 1 - p\n",
    "\n",
    "# n - total number of trials (6)\n",
    "# x - number of successes (3)\n",
    "# p - probability of success of one trial\n",
    "# q - probability of failure of one trial\n",
    "# number of combinations = n!/x!(n-x)!\n",
    "# b(x,n,p) = [number of combinations] * p^x * q^(n-x)\n",
    "\n",
    "def ncr(n,x):\n",
    "    x=min(x,n-x)\n",
    "    numer = reduce(op.mul, range(n, n-x, -1), 1)\n",
    "    denom = reduce(op.mul, range(1, x+1), 1)\n",
    "    return numer // denom\n",
    "\n",
    "def nCr(n,r):\n",
    "    f = math.factorial\n",
    "    return f(n) / f(r) / f(n-r)\n",
    "\n",
    "def binom_distr(n,x,p):\n",
    "    return nCr(n,x) * p**x * (1-p)**(n-x)\n",
    "\n",
    "\n",
    "print(f\"{sum([binom_distr(6,n,p) for n in range(3,7)]):0.3f}\")"
   ]
  },
  {
   "cell_type": "markdown",
   "id": "6d71612e",
   "metadata": {},
   "source": [
    "#### Task <a name=\"task2\" />\n",
    "\n",
    "A manufacturer of metal pistons finds that, on average, __12%__ of the pistons they manufacture are rejected because they are incorrectly sized. What is the probability that a batch of __10__ pistons will contain:\n",
    "\n",
    "- No more than 2 rejects? \n",
    "- At least 2 rejects?\n",
    "\n",
    "#####  Input format\n",
    "\n",
    "Estimation of rejected pistons, batch size on one line\n",
    "\n",
    "##### Output format\n",
    "\n",
    "Answers on questions 1 and 2 on separate lines"
   ]
  },
  {
   "cell_type": "code",
   "execution_count": 2,
   "id": "46b411e4",
   "metadata": {},
   "outputs": [
    {
     "name": "stdout",
     "output_type": "stream",
     "text": [
      "12 10\n",
      "0.891\n",
      "0.342\n"
     ]
    }
   ],
   "source": [
    "r,n=map(int,input().split())\n",
    "\n",
    "p=r/100\n",
    "\n",
    "def ncr(n,x):\n",
    "    x=min(x,n-x)\n",
    "    numer = reduce(op.mul, range(n, n-x, -1), 1)\n",
    "    denom = reduce(op.mul, range(1, x+1), 1)\n",
    "    return numer // denom\n",
    "\n",
    "def nCr(n,r):\n",
    "    f = math.factorial\n",
    "    return f(n) / f(r) / f(n-r)\n",
    "\n",
    "def binom_distr(n,x,p):\n",
    "    return nCr(n,x) * p**x * (1-p)**(n-x)\n",
    "\n",
    "print(f\"{sum([binom_distr(n,x,p) for x in range(0,3)]):0.3f}\")\n",
    "print(f\"{sum([binom_distr(n,x,p) for x in range(2,n+1)]):0.3f}\")"
   ]
  },
  {
   "cell_type": "markdown",
   "id": "a2a96ef1",
   "metadata": {},
   "source": [
    "#### Task <a name=\"task3\" />\n",
    "The probability that a machine produces a defective product is $ \\frac{1}{3}$. What is the probability that the first defect occurs the fifth item produced?\n",
    "\n",
    "##### Input Format\n",
    "\n",
    "The first line contains the respective space-separated numerator and denominator for the probability of a defect, and the second line contains the inspection we want the probability of being the first defect for:\n",
    "\n",
    "    1 3\n",
    "    5\n",
    "\n",
    "If you do not wish to read this information from stdin, you can hard-code it into your program.\n",
    "\n",
    "##### Output Format\n",
    "\n",
    "Print a single line denoting the answer, rounded to a scale of $ 3 $ decimal places"
   ]
  },
  {
   "cell_type": "code",
   "execution_count": 3,
   "id": "32aadb35",
   "metadata": {},
   "outputs": [
    {
     "name": "stdout",
     "output_type": "stream",
     "text": [
      "1 3\n",
      "5\n",
      "0.066\n"
     ]
    }
   ],
   "source": [
    "nom,denom = map(int,input().split())\n",
    "n = int(input())\n",
    "p = nom/denom\n",
    "print (f\"{(1-p)**(n-1) * p :0.3f}\")"
   ]
  },
  {
   "cell_type": "markdown",
   "id": "5118860a",
   "metadata": {},
   "source": [
    "#### Task <a name=\"task4\" />\n",
    "The probability that a machine produces a defective product is $ \\frac{1}{3}$. What is the probability that the first defect is found during the first 5 inspections?\n",
    "\n",
    "##### Input Format\n",
    "\n",
    "The first line contains the respective space-separated numerator and denominator for the probability of a defect, and the second line contains the inspection we want the probability of being the first defect for:\n",
    "\n",
    "    1 3\n",
    "    5\n",
    "\n",
    "If you do not wish to read this information from stdin, you can hard-code it into your program.\n",
    "\n",
    "##### Output Format\n",
    "\n",
    "Print a single line denoting the answer, rounded to a scale of $ 3 $ decimal places"
   ]
  },
  {
   "cell_type": "code",
   "execution_count": 5,
   "id": "c14cb7b8",
   "metadata": {},
   "outputs": [
    {
     "name": "stdout",
     "output_type": "stream",
     "text": [
      "1 3\n",
      "5\n",
      "0.868\n"
     ]
    }
   ],
   "source": [
    "nom,denom = map(int,input().split())\n",
    "n = int(input())\n",
    "p = nom/denom\n",
    "res = sum([(1-p)**(i-1) * p for i in range(1,n+1)])\n",
    "print (f\"{res :0.3f}\")"
   ]
  },
  {
   "cell_type": "code",
   "execution_count": null,
   "id": "a93b0893",
   "metadata": {},
   "outputs": [],
   "source": []
  }
 ],
 "metadata": {
  "kernelspec": {
   "display_name": "Python 3 (ipykernel)",
   "language": "python",
   "name": "python3"
  },
  "language_info": {
   "codemirror_mode": {
    "name": "ipython",
    "version": 3
   },
   "file_extension": ".py",
   "mimetype": "text/x-python",
   "name": "python",
   "nbconvert_exporter": "python",
   "pygments_lexer": "ipython3",
   "version": "3.10.0"
  }
 },
 "nbformat": 4,
 "nbformat_minor": 5
}
